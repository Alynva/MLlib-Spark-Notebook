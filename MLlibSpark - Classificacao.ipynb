{
  "cells": [
    {
      "cell_type": "markdown",
      "metadata": {
        "id": "xezl4Ox7CVqH"
      },
      "source": [
        "---\n",
        "# MLlib Spark - Classificação\n",
        "\n",
        "## Aprendizado de Máquina no Apache Spark\n",
        "\n",
        "Alunos:\n",
        "\n",
        "\n",
        "*   **Alisson Nunes** (725862)\n",
        "*   **Lucas Mathaeus** (726561)\n",
        "*   **William Eugênio** (726601)\n",
        "\n",
        "Bacharelado em Ciência da Computação (BCC)<br>\n",
        "Departamento de Computação (DC)<br>\n",
        "Universidade Federal de São Carlos (UFSCar)\n"
      ]
    },
    {
      "cell_type": "markdown",
      "metadata": {
        "id": "LzdadFH7EcY7"
      },
      "source": []
    },
    {
      "cell_type": "markdown",
      "metadata": {
        "id": "L1arV91vEcY8"
      },
      "source": [
        "# (0) Contextualização\n",
        "\n",
        "## Aprendizado de Máquina\n",
        "\n",
        "- .\n",
        "- .\n",
        "\n",
        "## Classificação\n",
        "\n",
        "## Resilient Distributed Dataset (RDD)"
      ]
    },
    {
      "cell_type": "markdown",
      "metadata": {
        "id": "lXQbVZscEcY-"
      },
      "source": [
        "#  (1) Instalação e Configuração"
      ]
    },
    {
      "cell_type": "code",
      "execution_count": 1,
      "metadata": {
        "id": "w7K1EdymEcY_",
        "outputId": "4bb1c673-5e71-4558-c668-2de82dc293c2",
        "colab": {
          "base_uri": "https://localhost:8080/"
        }
      },
      "outputs": [
        {
          "output_type": "stream",
          "name": "stdout",
          "text": [
            "\u001b[K     |████████████████████████████████| 281.3 MB 61 kB/s \n",
            "\u001b[K     |████████████████████████████████| 199 kB 69.1 MB/s \n",
            "\u001b[?25h  Building wheel for pyspark (setup.py) ... \u001b[?25l\u001b[?25hdone\n"
          ]
        }
      ],
      "source": [
        "! pip install -q pyspark numpy"
      ]
    },
    {
      "cell_type": "code",
      "execution_count": 2,
      "metadata": {
        "id": "Oal10EwWEcZC"
      },
      "outputs": [],
      "source": [
        "# Configurando as variaveis de ambiente\n",
        "import os\n",
        "os.environ[\"PYSPARK_PYTHON\"] = \"python3\""
      ]
    },
    {
      "cell_type": "code",
      "execution_count": 3,
      "metadata": {
        "id": "6Jf8Xot-EcZE"
      },
      "outputs": [],
      "source": [
        "# Definindo uma sessão e contexto Spark\n",
        "from pyspark.sql import SparkSession\n",
        "ss = SparkSession.builder.appName(\"pyspark-notebook\").master(\"local[*]\").getOrCreate()\n",
        "sc = ss.sparkContext"
      ]
    },
    {
      "cell_type": "markdown",
      "metadata": {
        "id": "krASYLGNEisA"
      },
      "source": [
        "# (2) Obtenção dos Dados"
      ]
    },
    {
      "cell_type": "code",
      "execution_count": 4,
      "metadata": {
        "id": "hPLHXiMREcZM"
      },
      "outputs": [],
      "source": [
        "# Instalando o módulo wget\n",
        "%%capture\n",
        "! pip install -q wget\n",
        "!rm -rf data\n",
        "!mkdir data"
      ]
    },
    {
      "cell_type": "code",
      "execution_count": 5,
      "metadata": {
        "id": "obtgyOMAEcZN",
        "outputId": "00c6928c-2d86-4f43-8315-33c172963aef",
        "colab": {
          "base_uri": "https://localhost:8080/",
          "height": 36
        }
      },
      "outputs": [
        {
          "output_type": "execute_result",
          "data": {
            "text/plain": [
              "'data/sample_binary_classification_data.txt'"
            ],
            "application/vnd.google.colaboratory.intrinsic+json": {
              "type": "string"
            }
          },
          "metadata": {},
          "execution_count": 5
        }
      ],
      "source": [
        "# Baixando os dados de exemplo para classificação\n",
        "import wget\n",
        "\n",
        "url = \"https://raw.githubusercontent.com/apache/spark/master/data/mllib/sample_binary_classification_data.txt\"\n",
        "wget.download(url, \"data/sample_binary_classification_data.txt\")"
      ]
    },
    {
      "cell_type": "code",
      "execution_count": 6,
      "metadata": {
        "id": "9N-Ly5XQEcZP"
      },
      "outputs": [],
      "source": [
        "# Carregando o arquivo de dados\n",
        "from pyspark.mllib.util import MLUtils\n",
        "\n",
        "data = MLUtils.loadLibSVMFile(sc, \"data/sample_binary_classification_data.txt\")"
      ]
    },
    {
      "cell_type": "markdown",
      "metadata": {
        "id": "htgCUkoJEcZQ"
      },
      "source": [
        "# (3) Tratamento dos Dados"
      ]
    },
    {
      "cell_type": "code",
      "execution_count": 7,
      "metadata": {
        "id": "aG_Sn7Y_EcZR",
        "outputId": "e2544f8d-65bf-4caa-f332-9122b145830d",
        "colab": {
          "base_uri": "https://localhost:8080/"
        }
      },
      "outputs": [
        {
          "output_type": "execute_result",
          "data": {
            "text/plain": [
              "PythonRDD[4] at RDD at PythonRDD.scala:53"
            ]
          },
          "metadata": {},
          "execution_count": 7
        }
      ],
      "source": [
        "training, test = data.randomSplit([0.6, 0.4], seed=11)\n",
        "training.cache()"
      ]
    },
    {
      "cell_type": "code",
      "execution_count": 8,
      "metadata": {
        "id": "R2gB2OtqEcZS"
      },
      "outputs": [],
      "source": [
        "from pyspark.mllib.classification import LogisticRegressionWithLBFGS\n",
        "\n",
        "model = LogisticRegressionWithLBFGS.train(training)"
      ]
    },
    {
      "cell_type": "code",
      "execution_count": 9,
      "metadata": {
        "id": "SVS0bY82EcZT"
      },
      "outputs": [],
      "source": [
        "predictionAndLabels = test.map(lambda lp: (float(model.predict(lp.features)), lp.label))"
      ]
    },
    {
      "cell_type": "code",
      "execution_count": 10,
      "metadata": {
        "id": "Fy3kJPbuEcZU",
        "outputId": "4c233d33-239c-4d2f-833c-aba4e22ebf69",
        "colab": {
          "base_uri": "https://localhost:8080/"
        }
      },
      "outputs": [
        {
          "output_type": "stream",
          "name": "stderr",
          "text": [
            "/usr/local/lib/python3.7/dist-packages/pyspark/sql/context.py:159: FutureWarning: Deprecated in 3.0.0. Use SparkSession.builder.getOrCreate() instead.\n",
            "  FutureWarning,\n"
          ]
        }
      ],
      "source": [
        "from pyspark.mllib.evaluation import BinaryClassificationMetrics\n",
        "\n",
        "metrics = BinaryClassificationMetrics(predictionAndLabels)"
      ]
    },
    {
      "cell_type": "code",
      "execution_count": 11,
      "metadata": {
        "id": "2sfnYIuWEcZV",
        "outputId": "7e00be0b-2205-4bf8-cef9-e47fcbc7e38c",
        "colab": {
          "base_uri": "https://localhost:8080/"
        }
      },
      "outputs": [
        {
          "output_type": "stream",
          "name": "stdout",
          "text": [
            "Area under PR = 1.0\n",
            "Area under ROC = 1.0\n"
          ]
        }
      ],
      "source": [
        "print(\"Area under PR = %s\" % metrics.areaUnderPR)\n",
        "print(\"Area under ROC = %s\" % metrics.areaUnderROC)"
      ]
    },
    {
      "cell_type": "code",
      "execution_count": 12,
      "metadata": {
        "id": "L4BbfldPEcZW",
        "outputId": "af4e222e-33d5-43a0-b99e-3a811ab08f3f",
        "colab": {
          "base_uri": "https://localhost:8080/"
        }
      },
      "outputs": [
        {
          "output_type": "stream",
          "name": "stdout",
          "text": [
            "[(1.0, 1.0), (1.0, 1.0), (1.0, 1.0), (0.0, 0.0), (0.0, 0.0), (1.0, 1.0), (1.0, 1.0), (1.0, 1.0), (0.0, 0.0), (1.0, 1.0)]\n"
          ]
        }
      ],
      "source": [
        "print(predictionAndLabels.take(10))"
      ]
    },
    {
      "cell_type": "code",
      "execution_count": 13,
      "metadata": {
        "id": "PJQtzKp1EcZX"
      },
      "outputs": [],
      "source": [
        "sc.stop()"
      ]
    }
  ],
  "metadata": {
    "colab": {
      "name": "Untitled1.ipynb",
      "provenance": []
    },
    "kernelspec": {
      "display_name": "Python 3.8.10 64-bit",
      "language": "python",
      "name": "python3"
    },
    "language_info": {
      "codemirror_mode": {
        "name": "ipython",
        "version": 3
      },
      "file_extension": ".py",
      "mimetype": "text/x-python",
      "name": "python",
      "nbconvert_exporter": "python",
      "pygments_lexer": "ipython3",
      "version": "3.8.10"
    },
    "vscode": {
      "interpreter": {
        "hash": "916dbcbb3f70747c44a77c7bcd40155683ae19c65e1c03b4aa3499c5328201f1"
      }
    }
  },
  "nbformat": 4,
  "nbformat_minor": 0
}