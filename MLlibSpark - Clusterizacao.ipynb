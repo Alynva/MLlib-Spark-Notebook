{
  "cells": [
    {
      "cell_type": "markdown",
      "metadata": {
        "id": "xezl4Ox7CVqH"
      },
      "source": [
        "---\n",
        "# MLlib Spark - Clusterização\n",
        "\n",
        "## Aprendizado de Máquina no Apache Spark\n",
        "\n",
        "Alunos:\n",
        "\n",
        "\n",
        "*   **Alisson Nunes** (725862)\n",
        "*   **Lucas Mathaeus** (726561)\n",
        "*   **William Eugênio** (726601)\n",
        "\n",
        "Bacharelado em Ciência da Computação (BCC)<br>\n",
        "Departamento de Computação (DC)<br>\n",
        "Universidade Federal de São Carlos (UFSCar)\n"
      ]
    },
    {
      "cell_type": "markdown",
      "metadata": {
        "id": "8UzwqZCIEcae"
      },
      "source": []
    },
    {
      "cell_type": "markdown",
      "metadata": {
        "id": "TUKjwC7uEcai"
      },
      "source": [
        "# (0) Contextualização\n",
        "\n",
        "## Aprendizado de Máquina\n",
        "\n",
        "- .\n",
        "- .\n",
        "\n",
        "## Clusterização\n",
        "\n",
        "## Resilient Distributed Dataset (RDD)"
      ]
    },
    {
      "cell_type": "markdown",
      "metadata": {
        "id": "DdnsBL4vEcam"
      },
      "source": [
        "#  (1) Instalação e Configuração"
      ]
    },
    {
      "cell_type": "code",
      "execution_count": null,
      "metadata": {
        "id": "E4M-HoFQEcap"
      },
      "outputs": [],
      "source": [
        "! pip install -q pyspark numpy"
      ]
    },
    {
      "cell_type": "code",
      "execution_count": null,
      "metadata": {
        "id": "wGbfjRE0Ecau"
      },
      "outputs": [],
      "source": [
        "# Configurando as variaveis de ambiente\n",
        "import os\n",
        "os.environ[\"PYSPARK_PYTHON\"] = \"python3\""
      ]
    },
    {
      "cell_type": "code",
      "execution_count": null,
      "metadata": {
        "id": "xOfXV0U1Ecax",
        "outputId": "08167fcc-9500-4a49-ad5a-bb5bb4f3400d"
      },
      "outputs": [
        {
          "name": "stderr",
          "output_type": "stream",
          "text": [
            "22/08/25 23:03:48 WARN Utils: Service 'SparkUI' could not bind on port 4040. Attempting port 4041.\n",
            "22/08/25 23:03:48 WARN Utils: Service 'SparkUI' could not bind on port 4041. Attempting port 4042.\n"
          ]
        }
      ],
      "source": [
        "# Definindo uma sessão e contexto Spark\n",
        "from pyspark.sql import SparkSession\n",
        "ss = SparkSession.builder.appName(\"pyspark-notebook\").master(\"local[*]\").getOrCreate()\n",
        "sc = ss.sparkContext"
      ]
    },
    {
      "cell_type": "markdown",
      "metadata": {
        "id": "krASYLGNEisA"
      },
      "source": [
        "# (2) Obtenção dos Dados"
      ]
    },
    {
      "cell_type": "code",
      "execution_count": null,
      "metadata": {
        "id": "HxRoUXIFEca5",
        "outputId": "cb2c6999-de50-40bc-f765-fb7a832bc2ff"
      },
      "outputs": [
        {
          "name": "stdout",
          "output_type": "stream",
          "text": [
            "mkdir: cannot create directory ‘data’: File exists\n"
          ]
        }
      ],
      "source": [
        "# Instalando o módulo wget\n",
        "%%capture\n",
        "! pip install -q wget\n",
        "!rm -rf data\n",
        "!mkdir data"
      ]
    },
    {
      "cell_type": "code",
      "execution_count": null,
      "metadata": {
        "id": "ssAmwLf4Eca7",
        "outputId": "daedf653-7068-4997-b8a7-a41e23895ee6"
      },
      "outputs": [
        {
          "data": {
            "text/plain": [
              "'data/sample_binary_classification_data (1).txt'"
            ]
          },
          "execution_count": 8,
          "metadata": {},
          "output_type": "execute_result"
        }
      ],
      "source": [
        "# Baixando os dados das tabelas de dimensão do data mart Exame\n",
        "import wget\n",
        "\n",
        "url = \"https://raw.githubusercontent.com/apache/spark/master/data/mllib/kmeans_data.txt\"\n",
        "wget.download(url, \"data/kmeans_data.txt\")"
      ]
    },
    {
      "cell_type": "code",
      "execution_count": null,
      "metadata": {
        "id": "qR0A329tEca9"
      },
      "outputs": [],
      "source": [
        "# Carregando o arquivo de dados\n",
        "from numpy import array\n",
        "\n",
        "data = sc.textFile(\"data/kmeans_data.txt\")\n",
        "parsedData = data.map(lambda line: array([float(x) for x in line.split(' ')]))"
      ]
    },
    {
      "cell_type": "markdown",
      "metadata": {
        "id": "Z7e2Rli9Eca-"
      },
      "source": [
        "# (3) Tratamento dos Dados"
      ]
    },
    {
      "cell_type": "code",
      "execution_count": null,
      "metadata": {
        "id": "IHy7FxmLEcbA",
        "outputId": "957270b2-14bb-4570-b756-fcc6ea201649"
      },
      "outputs": [
        {
          "data": {
            "text/plain": [
              "PythonRDD[8] at RDD at PythonRDD.scala:53"
            ]
          },
          "execution_count": 10,
          "metadata": {},
          "output_type": "execute_result"
        }
      ],
      "source": [
        "from pyspark.mllib.clustering import KMeans\n",
        "\n",
        "clusters = KMeans.train(parsedData, 2, maxIterations=10, initializationMode=\"random\")"
      ]
    },
    {
      "cell_type": "code",
      "execution_count": null,
      "metadata": {
        "id": "vMiMbHLVEcbC",
        "outputId": "2ba775df-7bd8-4484-d4ff-b22d5a03a64f"
      },
      "outputs": [
        {
          "name": "stderr",
          "output_type": "stream",
          "text": [
            "22/08/25 22:38:28 WARN Instrumentation: [8bfb2d8c] Initial coefficients will be ignored! Its dimensions (1, 692) did not match the expected size (1, 692)\n",
            "22/08/25 22:38:28 WARN BLAS: Failed to load implementation from: com.github.fommil.netlib.NativeSystemBLAS\n",
            "22/08/25 22:38:28 WARN BLAS: Failed to load implementation from: com.github.fommil.netlib.NativeRefBLAS\n"
          ]
        }
      ],
      "source": [
        "from math import sqrt\n",
        "\n",
        "def error(point):\n",
        "\tcenter = clusters.centers[clusters.predict(point)]\n",
        "\treturn sqrt(sum([x**2 for x in (point - center)]))\n",
        "\n",
        "WSSSE = parsedData.map(lambda point: error(point)).reduce(lambda x, y: x + y)\n",
        "print(\"Within Set Sum of Squared Error = \" + str(WSSSE))\n"
      ]
    },
    {
      "cell_type": "code",
      "execution_count": null,
      "metadata": {
        "id": "xtc6BhNbEcbE"
      },
      "outputs": [],
      "source": [
        "from pyspark.mllib.clustering import KMeansModel\n",
        "\n",
        "clusters.save(sc, \"data/KMeansModel\")\n",
        "sameModel = KMeansModel.load(sc, \"data/KMeansModel\")"
      ]
    },
    {
      "cell_type": "code",
      "execution_count": null,
      "metadata": {
        "id": "tOx3DKVQEcbF"
      },
      "outputs": [],
      "source": [
        "sc.stop()"
      ]
    }
  ],
  "metadata": {
    "colab": {
      "name": "Untitled1.ipynb",
      "provenance": []
    },
    "kernelspec": {
      "display_name": "Python 3.8.10 64-bit",
      "language": "python",
      "name": "python3"
    },
    "language_info": {
      "codemirror_mode": {
        "name": "ipython",
        "version": 3
      },
      "file_extension": ".py",
      "mimetype": "text/x-python",
      "name": "python",
      "nbconvert_exporter": "python",
      "pygments_lexer": "ipython3",
      "version": "3.8.10"
    },
    "vscode": {
      "interpreter": {
        "hash": "916dbcbb3f70747c44a77c7bcd40155683ae19c65e1c03b4aa3499c5328201f1"
      }
    }
  },
  "nbformat": 4,
  "nbformat_minor": 0
}