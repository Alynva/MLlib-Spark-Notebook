{
  "cells": [
    {
      "cell_type": "markdown",
      "metadata": {
        "id": "xezl4Ox7CVqH"
      },
      "source": [
        "---\n",
        "# MLlib Spark - Clusterização\n"
      ]
    },
    {
      "cell_type": "markdown",
      "metadata": {
        "id": "DdnsBL4vEcam"
      },
      "source": [
        "#  (1) Instalação e Configuração"
      ]
    },
    {
      "cell_type": "code",
      "execution_count": 3,
      "metadata": {
        "colab": {
          "base_uri": "https://localhost:8080/"
        },
        "id": "E4M-HoFQEcap",
        "outputId": "4e6a09f1-d41c-450a-b140-b6047f90b517"
      },
      "outputs": [
        {
          "name": "stdout",
          "output_type": "stream",
          "text": [
            "\u001b[K     |████████████████████████████████| 281.3 MB 43 kB/s \n",
            "\u001b[K     |████████████████████████████████| 199 kB 66.8 MB/s \n",
            "\u001b[?25h  Building wheel for pyspark (setup.py) ... \u001b[?25l\u001b[?25hdone\n"
          ]
        }
      ],
      "source": [
        "! pip install -q pyspark numpy"
      ]
    },
    {
      "cell_type": "code",
      "execution_count": 4,
      "metadata": {
        "id": "wGbfjRE0Ecau"
      },
      "outputs": [],
      "source": [
        "# Configurando as variaveis de ambiente\n",
        "import os\n",
        "os.environ[\"PYSPARK_PYTHON\"] = \"python3\""
      ]
    },
    {
      "cell_type": "code",
      "execution_count": 5,
      "metadata": {
        "id": "xOfXV0U1Ecax"
      },
      "outputs": [],
      "source": [
        "# Definindo uma sessão e contexto Spark\n",
        "from pyspark.sql import SparkSession\n",
        "ss = SparkSession.builder.appName(\"pyspark-notebook\").master(\"local[*]\").getOrCreate()\n",
        "sc = ss.sparkContext"
      ]
    },
    {
      "cell_type": "markdown",
      "metadata": {
        "id": "krASYLGNEisA"
      },
      "source": [
        "# (2) Obtenção dos Dados"
      ]
    },
    {
      "cell_type": "code",
      "execution_count": 6,
      "metadata": {
        "id": "HxRoUXIFEca5"
      },
      "outputs": [],
      "source": [
        "# Instalando o módulo wget\n",
        "%%capture\n",
        "! pip install -q wget\n",
        "!rm -rf data\n",
        "!mkdir data"
      ]
    },
    {
      "cell_type": "code",
      "execution_count": 7,
      "metadata": {
        "colab": {
          "base_uri": "https://localhost:8080/",
          "height": 36
        },
        "id": "ssAmwLf4Eca7",
        "outputId": "db13bc35-57cf-4da8-db33-ea2c94c22670"
      },
      "outputs": [
        {
          "data": {
            "application/vnd.google.colaboratory.intrinsic+json": {
              "type": "string"
            },
            "text/plain": [
              "'data/kmeans_data.txt'"
            ]
          },
          "execution_count": 7,
          "metadata": {},
          "output_type": "execute_result"
        }
      ],
      "source": [
        "# Baixando os dados das tabelas de dimensão do data mart Exame\n",
        "import wget\n",
        "\n",
        "url = \"https://raw.githubusercontent.com/apache/spark/master/data/mllib/kmeans_data.txt\"\n",
        "wget.download(url, \"data/kmeans_data.txt\")"
      ]
    },
    {
      "cell_type": "code",
      "execution_count": 8,
      "metadata": {
        "id": "qR0A329tEca9"
      },
      "outputs": [],
      "source": [
        "# Carregando o arquivo de dados\n",
        "from numpy import array\n",
        "\n",
        "data = sc.textFile(\"data/kmeans_data.txt\")\n",
        "parsedData = data.map(lambda line: array([float(x) for x in line.split(' ')]))"
      ]
    },
    {
      "cell_type": "markdown",
      "metadata": {
        "id": "Z7e2Rli9Eca-"
      },
      "source": [
        "# (3) Tratamento dos Dados"
      ]
    },
    {
      "cell_type": "code",
      "execution_count": 9,
      "metadata": {
        "id": "IHy7FxmLEcbA"
      },
      "outputs": [],
      "source": [
        "from pyspark.mllib.clustering import KMeans\n",
        "\n",
        "clusters = KMeans.train(parsedData, 2, maxIterations=10, initializationMode=\"random\")"
      ]
    },
    {
      "cell_type": "code",
      "execution_count": 10,
      "metadata": {
        "colab": {
          "base_uri": "https://localhost:8080/"
        },
        "id": "vMiMbHLVEcbC",
        "outputId": "cff2ad80-9707-4678-e274-acfdff81cf50"
      },
      "outputs": [
        {
          "name": "stdout",
          "output_type": "stream",
          "text": [
            "Within Set Sum of Squared Error = 0.6928203230275529\n"
          ]
        }
      ],
      "source": [
        "from math import sqrt\n",
        "\n",
        "def error(point):\n",
        "\tcenter = clusters.centers[clusters.predict(point)]\n",
        "\treturn sqrt(sum([x**2 for x in (point - center)]))\n",
        "\n",
        "WSSSE = parsedData.map(lambda point: error(point)).reduce(lambda x, y: x + y)\n",
        "print(\"Within Set Sum of Squared Error = \" + str(WSSSE))\n"
      ]
    },
    {
      "cell_type": "code",
      "execution_count": 11,
      "metadata": {
        "id": "xtc6BhNbEcbE"
      },
      "outputs": [],
      "source": [
        "from pyspark.mllib.clustering import KMeansModel\n",
        "\n",
        "clusters.save(sc, \"data/KMeansModel\")\n",
        "sameModel = KMeansModel.load(sc, \"data/KMeansModel\")"
      ]
    },
    {
      "cell_type": "code",
      "execution_count": 12,
      "metadata": {
        "id": "tOx3DKVQEcbF"
      },
      "outputs": [],
      "source": [
        "sc.stop()"
      ]
    }
  ],
  "metadata": {
    "colab": {
      "name": "Untitled1.ipynb",
      "provenance": []
    },
    "kernelspec": {
      "display_name": "Python 3.8.10 64-bit",
      "language": "python",
      "name": "python3"
    },
    "language_info": {
      "codemirror_mode": {
        "name": "ipython",
        "version": 3
      },
      "file_extension": ".py",
      "mimetype": "text/x-python",
      "name": "python",
      "nbconvert_exporter": "python",
      "pygments_lexer": "ipython3",
      "version": "3.8.10"
    },
    "vscode": {
      "interpreter": {
        "hash": "916dbcbb3f70747c44a77c7bcd40155683ae19c65e1c03b4aa3499c5328201f1"
      }
    }
  },
  "nbformat": 4,
  "nbformat_minor": 0
}
